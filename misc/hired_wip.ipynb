{
 "cells": [
  {
   "cell_type": "code",
   "execution_count": 13,
   "id": "78e03c00",
   "metadata": {},
   "outputs": [
    {
     "name": "stdout",
     "output_type": "stream",
     "text": [
      "=== RenderCV Dictionary Structure ===\n",
      "Top-level keys: ['cv']\n",
      "\n",
      "CV section keys: ['name', 'location', 'email', 'phone', 'website', 'social_networks', 'sections']\n",
      "\n",
      "Sections: ['summary', 'education', 'experience', 'publications', 'projects', 'technologies']\n",
      "  summary: 1 items\n",
      "  education: 4 items\n",
      "  experience: 7 items\n",
      "  publications: 2 items\n",
      "  projects: 1 items\n",
      "  technologies: 2 items\n",
      "\n",
      "Design section: Missing\n",
      "\n",
      "✅ Saved renderCV dict to debug_rendercv.yaml for inspection\n"
     ]
    }
   ],
   "source": [
    "# Inspect the renderCV dictionary structure\n",
    "import yaml\n",
    "import json\n",
    "\n",
    "print(\"=== RenderCV Dictionary Structure ===\")\n",
    "print(f\"Top-level keys: {list(rendercv_dict.keys())}\")\n",
    "\n",
    "if 'cv' in rendercv_dict:\n",
    "    cv_data = rendercv_dict['cv']\n",
    "    print(f\"\\nCV section keys: {list(cv_data.keys())}\")\n",
    "    \n",
    "    # Check sections\n",
    "    if 'sections' in cv_data:\n",
    "        print(f\"\\nSections: {list(cv_data['sections'].keys())}\")\n",
    "        for section_name, section_data in cv_data['sections'].items():\n",
    "            if isinstance(section_data, list):\n",
    "                print(f\"  {section_name}: {len(section_data)} items\")\n",
    "            else:\n",
    "                print(f\"  {section_name}: {type(section_data)}\")\n",
    "\n",
    "print(f\"\\nDesign section: {rendercv_dict.get('design', 'Missing')}\")\n",
    "\n",
    "# Save to YAML to inspect\n",
    "with open('debug_rendercv.yaml', 'w') as f:\n",
    "    yaml.dump(rendercv_dict, f, default_flow_style=False)\n",
    "print(f\"\\n✅ Saved renderCV dict to debug_rendercv.yaml for inspection\")"
   ]
  },
  {
   "cell_type": "code",
   "execution_count": 15,
   "id": "84316166",
   "metadata": {},
   "outputs": [
    {
     "name": "stdout",
     "output_type": "stream",
     "text": [
      "Added design section: {'theme': 'classic', 'font_size': '10pt', 'page_size': 'letterpaper'}\n",
      "❌ PDF file was still not created\n"
     ]
    }
   ],
   "source": [
    "# Add the missing design section and test PDF generation\n",
    "test_rendercv_dict = dict(rendercv_dict)  # Copy\n",
    "\n",
    "# Add the design section that renderCV requires\n",
    "test_rendercv_dict['design'] = {\n",
    "    'theme': 'classic',\n",
    "    'font_size': '10pt',\n",
    "    'page_size': 'letterpaper'\n",
    "}\n",
    "\n",
    "print(f\"Added design section: {test_rendercv_dict['design']}\")\n",
    "\n",
    "# Test PDF generation\n",
    "output_file = Path(\"fixed_resume.pdf\")\n",
    "\n",
    "try:\n",
    "    rendercv.api.create_a_pdf_from_a_python_dictionary(test_rendercv_dict, str(output_file))\n",
    "    \n",
    "    if output_file.exists():\n",
    "        file_size = output_file.stat().st_size\n",
    "        print(f\"✅ PDF created successfully: {file_size} bytes\")\n",
    "        \n",
    "        # Read the PDF\n",
    "        with open(output_file, 'rb') as f:\n",
    "            pdf_data = f.read()\n",
    "        print(f\"✅ PDF data read: {len(pdf_data)} bytes\")\n",
    "        \n",
    "        print(\"🎉 SUCCESS! The renderCV pipeline is now working!\")\n",
    "        \n",
    "    else:\n",
    "        print(\"❌ PDF file was still not created\")\n",
    "        \n",
    "except Exception as e:\n",
    "    print(f\"❌ Error: {e}\")\n",
    "    import traceback\n",
    "    traceback.print_exc()"
   ]
  },
  {
   "cell_type": "markdown",
   "id": "267a4640",
   "metadata": {},
   "source": [
    "# Scrap: Real example"
   ]
  },
  {
   "cell_type": "code",
   "execution_count": 1,
   "id": "20775bf7",
   "metadata": {},
   "outputs": [],
   "source": [
    "import yaml \n",
    "\n",
    "def load_yaml(yaml_path: str):\n",
    "    \"\"\"\n",
    "    Loads a YAML file using PyYAML.\n",
    "    This works in Python 3.7+ because dicts preserve insertion order.\n",
    "    \"\"\"\n",
    "    with open(yaml_path, 'r') as file:\n",
    "        # Use safe_load for security reasons.\n",
    "        return yaml.safe_load(file)\n",
    "\n",
    "def dump_yaml(d: dict, yaml_path: str):\n",
    "    \"\"\"\n",
    "    Dumps a dictionary to a YAML file using PyYAML,\n",
    "    preserving key order and using a readable block style.\n",
    "    \"\"\"\n",
    "    with open(yaml_path, 'w') as file:\n",
    "        # sort_keys=False is crucial to prevent alphabetical sorting.\n",
    "        # default_flow_style=False ensures a readable, multi-line format.\n",
    "        yaml.dump(d, file, sort_keys=False, default_flow_style=False)"
   ]
  },
  {
   "cell_type": "code",
   "execution_count": 2,
   "id": "ffbba613",
   "metadata": {},
   "outputs": [
    {
     "name": "stdout",
     "output_type": "stream",
     "text": [
      "/Users/thorwhalen/Dropbox/py/proj/t/hired/hired/tests/fixtures/real_example_resume.json\n"
     ]
    }
   ],
   "source": [
    "import json \n",
    "import os \n",
    "\n",
    "from hired.util import proj_files\n",
    "from hired import mk_resume\n",
    "\n",
    "resume_json_path = proj_files / 'tests/fixtures/real_example_resume.json'\n",
    "content = json.load(open(resume_json_path))\n",
    "\n",
    "print(resume_json_path)"
   ]
  },
  {
   "cell_type": "code",
   "execution_count": 3,
   "id": "28a98348",
   "metadata": {},
   "outputs": [
    {
     "name": "stdout",
     "output_type": "stream",
     "text": [
      "/Users/thorwhalen/Dropbox/py/proj/t/hired/hired/tests/fixtures/real_example_resume.yaml\n"
     ]
    }
   ],
   "source": [
    "# convert content to yaml\n",
    "import yaml\n",
    "resume_yaml_path = proj_files / 'tests/fixtures/real_example_resume.yaml'\n",
    "dump_yaml(content, resume_yaml_path)\n",
    "print(resume_yaml_path)"
   ]
  },
  {
   "cell_type": "code",
   "execution_count": 4,
   "id": "b28c7a0e",
   "metadata": {},
   "outputs": [
    {
     "ename": "ValueError",
     "evalue": "Conversion failed: Traceback (most recent call last):\n  File \"/Users/thorwhalen/.pyenv/versions/3.10.13/envs/p10/bin/jsonresume_to_rendercv\", line 7, in <module>\n    sys.exit(main())\n  File \"/Users/thorwhalen/.pyenv/versions/p10/lib/python3.10/site-packages/jsonresume_to_rendercv/converter.py\", line 197, in main\n    convert(input_file, output_file)\n  File \"/Users/thorwhalen/.pyenv/versions/p10/lib/python3.10/site-packages/jsonresume_to_rendercv/converter.py\", line 176, in convert\n    converter = JSONResumeConverter(json_resume)\n  File \"/Users/thorwhalen/.pyenv/versions/p10/lib/python3.10/site-packages/jsonresume_to_rendercv/converter.py\", line 51, in __init__\n    \"education\": self.format_education(json_resume.get(\"education\", [])),\n  File \"/Users/thorwhalen/.pyenv/versions/p10/lib/python3.10/site-packages/jsonresume_to_rendercv/converter.py\", line 88, in format_education\n    return [\n  File \"/Users/thorwhalen/.pyenv/versions/p10/lib/python3.10/site-packages/jsonresume_to_rendercv/converter.py\", line 93, in <listcomp>\n    \"start_date\": edu[\"startDate\"],\nKeyError: 'startDate'\n",
     "output_type": "error",
     "traceback": [
      "\u001b[0;31m---------------------------------------------------------------------------\u001b[0m",
      "\u001b[0;31mValueError\u001b[0m                                Traceback (most recent call last)",
      "Cell \u001b[0;32mIn[4], line 4\u001b[0m\n\u001b[1;32m      1\u001b[0m \u001b[38;5;28;01mfrom\u001b[39;00m\u001b[38;5;250m \u001b[39m\u001b[38;5;21;01mhired\u001b[39;00m\u001b[38;5;21;01m.\u001b[39;00m\u001b[38;5;21;01mrenderers\u001b[39;00m\u001b[38;5;21;01m.\u001b[39;00m\u001b[38;5;21;01mw_rendercv\u001b[39;00m\u001b[38;5;250m \u001b[39m\u001b[38;5;28;01mimport\u001b[39;00m \u001b[38;5;241m*\u001b[39m\n\u001b[1;32m      3\u001b[0m \u001b[38;5;66;03m# Convert and render\u001b[39;00m\n\u001b[0;32m----> 4\u001b[0m rendercv_dict \u001b[38;5;241m=\u001b[39m \u001b[43mresumejson_to_rendercv\u001b[49m\u001b[43m(\u001b[49m\u001b[43mcontent\u001b[49m\u001b[43m)\u001b[49m\n\u001b[1;32m      5\u001b[0m pdf_bytes \u001b[38;5;241m=\u001b[39m render_resume_w_rendercv(rendercv_dict, \u001b[38;5;124m'\u001b[39m\u001b[38;5;124mpdf\u001b[39m\u001b[38;5;124m'\u001b[39m, theme\u001b[38;5;241m=\u001b[39m\u001b[38;5;124m'\u001b[39m\u001b[38;5;124mclassic\u001b[39m\u001b[38;5;124m'\u001b[39m)\n\u001b[1;32m      7\u001b[0m \u001b[38;5;66;03m# Save to file\u001b[39;00m\n",
      "File \u001b[0;32m~/Dropbox/py/proj/t/hired/hired/renderers/w_rendercv.py:100\u001b[0m, in \u001b[0;36mresumejson_to_rendercv\u001b[0;34m(resumejson_dict)\u001b[0m\n\u001b[1;32m     93\u001b[0m result \u001b[38;5;241m=\u001b[39m subprocess\u001b[38;5;241m.\u001b[39mrun(\n\u001b[1;32m     94\u001b[0m     [\u001b[38;5;124m'\u001b[39m\u001b[38;5;124mjsonresume_to_rendercv\u001b[39m\u001b[38;5;124m'\u001b[39m, \u001b[38;5;28mstr\u001b[39m(json_file), \u001b[38;5;28mstr\u001b[39m(yaml_file)],\n\u001b[1;32m     95\u001b[0m     capture_output\u001b[38;5;241m=\u001b[39m\u001b[38;5;28;01mTrue\u001b[39;00m,\n\u001b[1;32m     96\u001b[0m     text\u001b[38;5;241m=\u001b[39m\u001b[38;5;28;01mTrue\u001b[39;00m,\n\u001b[1;32m     97\u001b[0m )\n\u001b[1;32m     99\u001b[0m \u001b[38;5;28;01mif\u001b[39;00m result\u001b[38;5;241m.\u001b[39mreturncode \u001b[38;5;241m!=\u001b[39m \u001b[38;5;241m0\u001b[39m:\n\u001b[0;32m--> 100\u001b[0m     \u001b[38;5;28;01mraise\u001b[39;00m \u001b[38;5;167;01mValueError\u001b[39;00m(\u001b[38;5;124mf\u001b[39m\u001b[38;5;124m\"\u001b[39m\u001b[38;5;124mConversion failed: \u001b[39m\u001b[38;5;132;01m{\u001b[39;00mresult\u001b[38;5;241m.\u001b[39mstderr\u001b[38;5;132;01m}\u001b[39;00m\u001b[38;5;124m\"\u001b[39m)\n\u001b[1;32m    102\u001b[0m \u001b[38;5;66;03m# Read the converted YAML\u001b[39;00m\n\u001b[1;32m    103\u001b[0m \u001b[38;5;28;01mwith\u001b[39;00m \u001b[38;5;28mopen\u001b[39m(yaml_file, \u001b[38;5;124m'\u001b[39m\u001b[38;5;124mr\u001b[39m\u001b[38;5;124m'\u001b[39m, encoding\u001b[38;5;241m=\u001b[39m\u001b[38;5;124m'\u001b[39m\u001b[38;5;124mutf-8\u001b[39m\u001b[38;5;124m'\u001b[39m) \u001b[38;5;28;01mas\u001b[39;00m f:\n",
      "\u001b[0;31mValueError\u001b[0m: Conversion failed: Traceback (most recent call last):\n  File \"/Users/thorwhalen/.pyenv/versions/3.10.13/envs/p10/bin/jsonresume_to_rendercv\", line 7, in <module>\n    sys.exit(main())\n  File \"/Users/thorwhalen/.pyenv/versions/p10/lib/python3.10/site-packages/jsonresume_to_rendercv/converter.py\", line 197, in main\n    convert(input_file, output_file)\n  File \"/Users/thorwhalen/.pyenv/versions/p10/lib/python3.10/site-packages/jsonresume_to_rendercv/converter.py\", line 176, in convert\n    converter = JSONResumeConverter(json_resume)\n  File \"/Users/thorwhalen/.pyenv/versions/p10/lib/python3.10/site-packages/jsonresume_to_rendercv/converter.py\", line 51, in __init__\n    \"education\": self.format_education(json_resume.get(\"education\", [])),\n  File \"/Users/thorwhalen/.pyenv/versions/p10/lib/python3.10/site-packages/jsonresume_to_rendercv/converter.py\", line 88, in format_education\n    return [\n  File \"/Users/thorwhalen/.pyenv/versions/p10/lib/python3.10/site-packages/jsonresume_to_rendercv/converter.py\", line 93, in <listcomp>\n    \"start_date\": edu[\"startDate\"],\nKeyError: 'startDate'\n"
     ]
    }
   ],
   "source": [
    "from hired.renderers.w_rendercv import *\n",
    "\n",
    "# Convert and render\n",
    "rendercv_dict = resumejson_to_rendercv(content)\n",
    "pdf_bytes = render_resume_w_rendercv(rendercv_dict, 'pdf', theme='classic')\n",
    "\n",
    "# Save to file\n",
    "with open('resume.pdf', 'wb') as f:\n",
    "    f.write(pdf_bytes)"
   ]
  },
  {
   "cell_type": "code",
   "execution_count": 16,
   "id": "a2070bf1",
   "metadata": {},
   "outputs": [
    {
     "data": {
      "text/plain": [
       "'/Users/thorwhalen/Dropbox/py/proj/t/hired/misc'"
      ]
     },
     "execution_count": 16,
     "metadata": {},
     "output_type": "execute_result"
    }
   ],
   "source": [
    "pwd"
   ]
  },
  {
   "cell_type": "code",
   "execution_count": 10,
   "id": "a0e80982",
   "metadata": {},
   "outputs": [
    {
     "name": "stdout",
     "output_type": "stream",
     "text": [
      "Testing conversion with normalized data...\n",
      "✅ Conversion successful!\n",
      "RenderCV dict keys: ['cv']\n",
      "Rendering PDF...\n",
      "✅ Conversion successful!\n",
      "RenderCV dict keys: ['cv']\n",
      "Rendering PDF...\n",
      "❌ Error: Output file was not created: /var/folders/mc/c070wfh51kxd9lft8dl74q1r0000gn/T/tmpwewh29nf/resume.pdf\n",
      "❌ Error: Output file was not created: /var/folders/mc/c070wfh51kxd9lft8dl74q1r0000gn/T/tmpwewh29nf/resume.pdf\n"
     ]
    },
    {
     "name": "stderr",
     "output_type": "stream",
     "text": [
      "Traceback (most recent call last):\n",
      "  File \"/var/folders/mc/c070wfh51kxd9lft8dl74q1r0000gn/T/ipykernel_12906/1284023449.py\", line 12, in <module>\n",
      "    pdf_bytes = render_resume_w_rendercv(rendercv_dict, 'pdf', theme='classic')\n",
      "  File \"/Users/thorwhalen/Dropbox/py/proj/t/hired/hired/renderers/w_rendercv.py\", line 590, in render_resume_w_rendercv\n",
      "    raise ValueError(f\"Output file was not created: {output_file}\")\n",
      "ValueError: Output file was not created: /var/folders/mc/c070wfh51kxd9lft8dl74q1r0000gn/T/tmpwewh29nf/resume.pdf\n"
     ]
    }
   ],
   "source": [
    "# Test the improved function with normalization\n",
    "from hired.renderers.w_rendercv import resumejson_to_rendercv, render_resume_w_rendercv\n",
    "\n",
    "try:\n",
    "    print(\"Testing conversion with normalized data...\")\n",
    "    rendercv_dict = resumejson_to_rendercv(content)\n",
    "    print(\"✅ Conversion successful!\")\n",
    "    print(f\"RenderCV dict keys: {list(rendercv_dict.keys())}\")\n",
    "    \n",
    "    # Try to render as PDF\n",
    "    print(\"Rendering PDF...\")\n",
    "    pdf_bytes = render_resume_w_rendercv(rendercv_dict, 'pdf', theme='classic')\n",
    "    print(f\"✅ PDF rendered: {len(pdf_bytes)} bytes\")\n",
    "    \n",
    "    # Save to file\n",
    "    with open('resume_normalized.pdf', 'wb') as f:\n",
    "        f.write(pdf_bytes)\n",
    "    print(\"✅ PDF saved as 'resume_normalized.pdf'\")\n",
    "    \n",
    "except Exception as e:\n",
    "    print(f\"❌ Error: {e}\")\n",
    "    import traceback\n",
    "    traceback.print_exc()"
   ]
  },
  {
   "cell_type": "code",
   "execution_count": 7,
   "id": "b7a8ecb7",
   "metadata": {},
   "outputs": [
    {
     "name": "stdout",
     "output_type": "stream",
     "text": [
      "Available methods in rendercv.api:\n",
      "  create_a_markdown_file_from_a_python_dictionary\n",
      "  create_a_markdown_file_from_a_yaml_string\n",
      "  create_a_pdf_from_a_python_dictionary\n",
      "  create_a_pdf_from_a_yaml_string\n",
      "  create_a_typst_file_from_a_python_dictionary\n",
      "  create_a_typst_file_from_a_yaml_string\n",
      "  create_an_html_file_from_a_python_dictionary\n",
      "  create_an_html_file_from_a_yaml_string\n",
      "  create_contents_of_a_markdown_file_from_a_python_dictionary\n",
      "  create_contents_of_a_markdown_file_from_a_yaml_string\n",
      "  create_contents_of_a_typst_file_from_a_python_dictionary\n",
      "  create_contents_of_a_typst_file_from_a_yaml_string\n",
      "  functions\n",
      "  read_a_python_dictionary_and_return_a_data_model\n",
      "  read_a_yaml_string_and_return_a_data_model\n",
      "\n",
      "🎉 JSON Resume to renderCV conversion is working!\n",
      "Converted data has these keys: ['cv']\n",
      "CV section has: ['name', 'location', 'email', 'phone', 'website', 'social_networks', 'sections']\n"
     ]
    }
   ],
   "source": [
    "# Check available methods in rendercv.api\n",
    "import rendercv.api\n",
    "print(\"Available methods in rendercv.api:\")\n",
    "methods = [attr for attr in dir(rendercv.api) if not attr.startswith('_')]\n",
    "for method in methods:\n",
    "    print(f\"  {method}\")\n",
    "    \n",
    "# Also test just the conversion part to confirm it works\n",
    "print(\"\\n🎉 JSON Resume to renderCV conversion is working!\")\n",
    "print(f\"Converted data has these keys: {list(rendercv_dict.keys())}\")\n",
    "if 'cv' in rendercv_dict:\n",
    "    print(f\"CV section has: {list(rendercv_dict['cv'].keys())}\")"
   ]
  },
  {
   "cell_type": "code",
   "execution_count": 9,
   "id": "b86164f1",
   "metadata": {},
   "outputs": [
    {
     "name": "stdout",
     "output_type": "stream",
     "text": [
      "Attempting to create PDF at: /var/folders/mc/c070wfh51kxd9lft8dl74q1r0000gn/T/tmprfmvpjwa/test_resume.pdf\n",
      "RenderCV dict type: <class 'dict'>\n",
      "RenderCV dict keys: ['cv']\n",
      "PDF file exists: True\n",
      "PDF file size: 20889 bytes\n"
     ]
    }
   ],
   "source": [
    "# Test just the renderCV PDF generation directly\n",
    "import tempfile\n",
    "from pathlib import Path\n",
    "\n",
    "try:\n",
    "    with tempfile.TemporaryDirectory() as temp_dir:\n",
    "        temp_path = Path(temp_dir)\n",
    "        output_file = temp_path / \"test_resume.pdf\"\n",
    "        \n",
    "        print(f\"Attempting to create PDF at: {output_file}\")\n",
    "        print(f\"RenderCV dict type: {type(rendercv_dict)}\")\n",
    "        print(f\"RenderCV dict keys: {list(rendercv_dict.keys()) if isinstance(rendercv_dict, dict) else 'Not a dict'}\")\n",
    "        \n",
    "        # Try the renderCV API call directly\n",
    "        rendercv.api.create_a_pdf_from_a_python_dictionary(rendercv_dict, str(output_file))\n",
    "        \n",
    "        print(f\"PDF file exists: {output_file.exists()}\")\n",
    "        if output_file.exists():\n",
    "            print(f\"PDF file size: {output_file.stat().st_size} bytes\")\n",
    "        else:\n",
    "            print(\"PDF file was not created\")\n",
    "            # List what files were created\n",
    "            files = list(temp_path.glob(\"*\"))\n",
    "            print(f\"Files in temp directory: {files}\")\n",
    "            \n",
    "except Exception as e:\n",
    "    print(f\"Error during PDF creation: {e}\")\n",
    "    import traceback\n",
    "    traceback.print_exc()"
   ]
  },
  {
   "cell_type": "code",
   "execution_count": 11,
   "id": "e14a4e49",
   "metadata": {},
   "outputs": [
    {
     "name": "stdout",
     "output_type": "stream",
     "text": [
      "Attempting to create PDF with design: {'theme': 'classic', 'font_size': '10pt', 'page_size': 'letterpaper'}\n",
      "❌ Simple render failed: PDF file was not created at /var/folders/mc/c070wfh51kxd9lft8dl74q1r0000gn/T/tmpuyece4b9/resume.pdf\n"
     ]
    },
    {
     "name": "stderr",
     "output_type": "stream",
     "text": [
      "Traceback (most recent call last):\n",
      "  File \"/var/folders/mc/c070wfh51kxd9lft8dl74q1r0000gn/T/ipykernel_12906/2347455480.py\", line 33, in <module>\n",
      "    pdf_bytes = simple_render_pdf(rendercv_dict)\n",
      "  File \"/var/folders/mc/c070wfh51kxd9lft8dl74q1r0000gn/T/ipykernel_12906/2347455480.py\", line 29, in simple_render_pdf\n",
      "    raise ValueError(f\"PDF file was not created at {output_file}\")\n",
      "ValueError: PDF file was not created at /var/folders/mc/c070wfh51kxd9lft8dl74q1r0000gn/T/tmpuyece4b9/resume.pdf\n"
     ]
    }
   ],
   "source": [
    "# Test with a simpler approach - create a simple wrapper\n",
    "import tempfile\n",
    "from pathlib import Path\n",
    "\n",
    "def simple_render_pdf(rendercv_dict):\n",
    "    \"\"\"Simple PDF renderer without all the extra logic\"\"\"\n",
    "    with tempfile.TemporaryDirectory() as temp_dir:\n",
    "        temp_path = Path(temp_dir)\n",
    "        output_file = temp_path / \"resume.pdf\"\n",
    "        \n",
    "        # Add basic design if missing\n",
    "        if 'design' not in rendercv_dict:\n",
    "            rendercv_dict = dict(rendercv_dict)  # Don't modify original\n",
    "            rendercv_dict['design'] = {\n",
    "                'theme': 'classic',\n",
    "                'font_size': '10pt',\n",
    "                'page_size': 'letterpaper'\n",
    "            }\n",
    "        \n",
    "        print(f\"Attempting to create PDF with design: {rendercv_dict.get('design', 'None')}\")\n",
    "        \n",
    "        # Create PDF\n",
    "        rendercv.api.create_a_pdf_from_a_python_dictionary(rendercv_dict, str(output_file))\n",
    "        \n",
    "        if output_file.exists():\n",
    "            with open(output_file, 'rb') as f:\n",
    "                return f.read()\n",
    "        else:\n",
    "            raise ValueError(f\"PDF file was not created at {output_file}\")\n",
    "\n",
    "# Test it\n",
    "try:\n",
    "    pdf_bytes = simple_render_pdf(rendercv_dict)\n",
    "    print(f\"✅ Simple PDF render successful: {len(pdf_bytes)} bytes\")\n",
    "    \n",
    "    # Save to file\n",
    "    with open('resume_simple.pdf', 'wb') as f:\n",
    "        f.write(pdf_bytes)\n",
    "    print(\"✅ PDF saved as 'resume_simple.pdf'\")\n",
    "    \n",
    "except Exception as e:\n",
    "    print(f\"❌ Simple render failed: {e}\")\n",
    "    import traceback\n",
    "    traceback.print_exc()"
   ]
  },
  {
   "cell_type": "code",
   "execution_count": 12,
   "id": "32f80564",
   "metadata": {},
   "outputs": [
    {
     "name": "stdout",
     "output_type": "stream",
     "text": [
      "Attempting to create PDF directly: debug_resume.pdf\n",
      "Working directory: /Users/thorwhalen/Dropbox/py/proj/t/hired/misc\n",
      "❌ PDF file was not created\n",
      "Files in current directory: ['hired_wip.ipynb']\n"
     ]
    }
   ],
   "source": [
    "# Debug: Try without temporary directory first\n",
    "output_file = Path(\"debug_resume.pdf\")\n",
    "\n",
    "# Add basic design if missing  \n",
    "test_dict = dict(rendercv_dict)  # Don't modify original\n",
    "if 'design' not in test_dict:\n",
    "    test_dict['design'] = {\n",
    "        'theme': 'classic',\n",
    "        'font_size': '10pt', \n",
    "        'page_size': 'letterpaper'\n",
    "    }\n",
    "\n",
    "print(f\"Attempting to create PDF directly: {output_file}\")\n",
    "print(f\"Working directory: {Path.cwd()}\")\n",
    "\n",
    "try:\n",
    "    rendercv.api.create_a_pdf_from_a_python_dictionary(test_dict, str(output_file))\n",
    "    \n",
    "    if output_file.exists():\n",
    "        print(f\"✅ PDF created successfully: {output_file.stat().st_size} bytes\")\n",
    "        \n",
    "        # Read and report success\n",
    "        with open(output_file, 'rb') as f:\n",
    "            pdf_data = f.read()\n",
    "        print(f\"✅ Read {len(pdf_data)} bytes from PDF\")\n",
    "        \n",
    "        # Clean up\n",
    "        output_file.unlink()\n",
    "        print(\"✅ Cleaned up debug file\")\n",
    "        \n",
    "    else:\n",
    "        print(\"❌ PDF file was not created\")\n",
    "        \n",
    "        # Check what files were created\n",
    "        current_files = [f for f in Path.cwd().glob(\"*\") if f.is_file()]\n",
    "        print(f\"Files in current directory: {[f.name for f in current_files]}\")\n",
    "        \n",
    "except Exception as e:\n",
    "    print(f\"❌ Error during PDF creation: {e}\")\n",
    "    import traceback\n",
    "    traceback.print_exc()"
   ]
  }
 ],
 "metadata": {
  "kernelspec": {
   "display_name": "p10",
   "language": "python",
   "name": "python3"
  },
  "language_info": {
   "codemirror_mode": {
    "name": "ipython",
    "version": 3
   },
   "file_extension": ".py",
   "mimetype": "text/x-python",
   "name": "python",
   "nbconvert_exporter": "python",
   "pygments_lexer": "ipython3",
   "version": "3.10.13"
  }
 },
 "nbformat": 4,
 "nbformat_minor": 5
}
