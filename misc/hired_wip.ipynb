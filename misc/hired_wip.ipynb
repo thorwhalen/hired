{
 "cells": [
  {
   "cell_type": "code",
   "execution_count": null,
   "id": "4d2ba551",
   "metadata": {},
   "outputs": [],
   "source": []
  },
  {
   "cell_type": "code",
   "execution_count": null,
   "id": "1953174a",
   "metadata": {},
   "outputs": [],
   "source": []
  },
  {
   "cell_type": "markdown",
   "id": "267a4640",
   "metadata": {},
   "source": [
    "# Scrap: Real example"
   ]
  },
  {
   "cell_type": "code",
   "execution_count": null,
   "id": "20775bf7",
   "metadata": {},
   "outputs": [],
   "source": [
    "import yaml \n",
    "import json \n",
    "import os \n",
    "\n",
    "from hired.util import proj_files, load_yaml, dump_yaml\n",
    "# from hired import mk_resume\n"
   ]
  },
  {
   "cell_type": "code",
   "execution_count": 2,
   "id": "ffbba613",
   "metadata": {},
   "outputs": [
    {
     "name": "stdout",
     "output_type": "stream",
     "text": [
      "/Users/thorwhalen/Dropbox/py/proj/t/hired/hired/tests/fixtures/real_example_resume.json\n"
     ]
    }
   ],
   "source": [
    "# resumejson\n",
    "resume_json_path = proj_files / 'tests/fixtures/real_example_resume.json'\n",
    "\n",
    "rj_content = json.load(open(resume_json_path))\n",
    "\n",
    "print(resume_json_path)"
   ]
  },
  {
   "cell_type": "code",
   "execution_count": 3,
   "id": "28a98348",
   "metadata": {},
   "outputs": [
    {
     "name": "stdout",
     "output_type": "stream",
     "text": [
      "/Users/thorwhalen/Dropbox/py/proj/t/hired/hired/tests/fixtures/real_example_resume.yaml\n"
     ]
    }
   ],
   "source": [
    "# convert rj_content to yaml\n",
    "resume_yaml_path = proj_files / 'tests/fixtures/real_example_resume.yaml'\n",
    "dump_yaml(rj_content, resume_yaml_path)\n",
    "print(resume_yaml_path)"
   ]
  },
  {
   "cell_type": "code",
   "execution_count": null,
   "id": "5265bf96",
   "metadata": {},
   "outputs": [
    {
     "data": {
      "text/plain": [
       "38515"
      ]
     },
     "execution_count": 6,
     "metadata": {},
     "output_type": "execute_result"
    }
   ],
   "source": [
    "# convert rj_content to rc_content (and save it as a yaml)\n",
    "from hired.renderers.w_rendercv import resumejson_to_rendercv, render_resume_w_rendercv\n",
    "from pathlib import Path\n",
    "\n",
    "# Convert JSON Resume to renderCV format\n",
    "# rc_content = resumejson_to_rendercv(rj_content)\n",
    "rendercv_tw_path = proj_files / 'tests/fixtures/rc_real_example_resume.yaml'\n",
    "rendercv_tw_dict = load_yaml(rendercv_tw_path)\n",
    "pdf_bytes = render_resume_w_rendercv(rendercv_tw_dict, 'pdf')\n",
    "\n",
    "Path('test_rendercv.pdf').write_bytes(pdf_bytes)"
   ]
  },
  {
   "cell_type": "code",
   "execution_count": null,
   "id": "dfbccac9",
   "metadata": {},
   "outputs": [
    {
     "ename": "ValueError",
     "evalue": "Conversion failed: Traceback (most recent call last):\n  File \"/Users/thorwhalen/.pyenv/versions/3.10.13/envs/p10/bin/jsonresume_to_rendercv\", line 7, in <module>\n    sys.exit(main())\n  File \"/Users/thorwhalen/.pyenv/versions/p10/lib/python3.10/site-packages/jsonresume_to_rendercv/converter.py\", line 197, in main\n    convert(input_file, output_file)\n  File \"/Users/thorwhalen/.pyenv/versions/p10/lib/python3.10/site-packages/jsonresume_to_rendercv/converter.py\", line 182, in convert\n    output_validator.validate_yaml(render_cv_data)\n  File \"/Users/thorwhalen/.pyenv/versions/p10/lib/python3.10/site-packages/jsonresume_to_rendercv/validator.py\", line 24, in validate_yaml\n    self.validate_json(data)\n  File \"/Users/thorwhalen/.pyenv/versions/p10/lib/python3.10/site-packages/jsonresume_to_rendercv/validator.py\", line 18, in validate_json\n    validate(instance=data, schema=self.schema)\n  File \"/Users/thorwhalen/.pyenv/versions/p10/lib/python3.10/site-packages/jsonschema/validators.py\", line 1332, in validate\n    raise error\njsonschema.exceptions.ValidationError: '' should be non-empty\n\nFailed validating 'minLength' in schema[0]:\n    {'format': 'uri', 'maxLength': 2083, 'minLength': 1, 'type': 'string'}\n\nOn instance:\n    ''\n",
     "output_type": "error",
     "traceback": [
      "\u001b[0;31m---------------------------------------------------------------------------\u001b[0m",
      "\u001b[0;31mValueError\u001b[0m                                Traceback (most recent call last)",
      "Cell \u001b[0;32mIn[9], line 3\u001b[0m\n\u001b[1;32m      1\u001b[0m rendercv_tw_wo_design_path \u001b[38;5;241m=\u001b[39m proj_files \u001b[38;5;241m/\u001b[39m \u001b[38;5;124m'\u001b[39m\u001b[38;5;124mtests/fixtures/rc_real_example_resume_without_design.yaml\u001b[39m\u001b[38;5;124m'\u001b[39m\n\u001b[1;32m      2\u001b[0m rendercv_tw_wo_design_content \u001b[38;5;241m=\u001b[39m load_yaml(rendercv_tw_wo_design_path)\n\u001b[0;32m----> 3\u001b[0m rendercv_tw_wo_design_content \u001b[38;5;241m=\u001b[39m \u001b[43mresumejson_to_rendercv\u001b[49m\u001b[43m(\u001b[49m\u001b[43mrendercv_tw_wo_design_content\u001b[49m\u001b[43m)\u001b[49m\n",
      "File \u001b[0;32m~/Dropbox/py/proj/t/hired/hired/renderers/w_rendercv.py:251\u001b[0m, in \u001b[0;36mresumejson_to_rendercv\u001b[0;34m(resumejson_dict)\u001b[0m\n\u001b[1;32m    244\u001b[0m result \u001b[38;5;241m=\u001b[39m subprocess\u001b[38;5;241m.\u001b[39mrun(\n\u001b[1;32m    245\u001b[0m     [\u001b[38;5;124m'\u001b[39m\u001b[38;5;124mjsonresume_to_rendercv\u001b[39m\u001b[38;5;124m'\u001b[39m, \u001b[38;5;28mstr\u001b[39m(json_file), \u001b[38;5;28mstr\u001b[39m(yaml_file)],\n\u001b[1;32m    246\u001b[0m     capture_output\u001b[38;5;241m=\u001b[39m\u001b[38;5;28;01mTrue\u001b[39;00m,\n\u001b[1;32m    247\u001b[0m     text\u001b[38;5;241m=\u001b[39m\u001b[38;5;28;01mTrue\u001b[39;00m,\n\u001b[1;32m    248\u001b[0m )\n\u001b[1;32m    250\u001b[0m \u001b[38;5;28;01mif\u001b[39;00m result\u001b[38;5;241m.\u001b[39mreturncode \u001b[38;5;241m!=\u001b[39m \u001b[38;5;241m0\u001b[39m:\n\u001b[0;32m--> 251\u001b[0m     \u001b[38;5;28;01mraise\u001b[39;00m \u001b[38;5;167;01mValueError\u001b[39;00m(\u001b[38;5;124mf\u001b[39m\u001b[38;5;124m\"\u001b[39m\u001b[38;5;124mConversion failed: \u001b[39m\u001b[38;5;132;01m{\u001b[39;00mresult\u001b[38;5;241m.\u001b[39mstderr\u001b[38;5;132;01m}\u001b[39;00m\u001b[38;5;124m\"\u001b[39m)\n\u001b[1;32m    253\u001b[0m \u001b[38;5;66;03m# Read the converted YAML\u001b[39;00m\n\u001b[1;32m    254\u001b[0m \u001b[38;5;28;01mwith\u001b[39;00m \u001b[38;5;28mopen\u001b[39m(yaml_file, \u001b[38;5;124m'\u001b[39m\u001b[38;5;124mr\u001b[39m\u001b[38;5;124m'\u001b[39m, encoding\u001b[38;5;241m=\u001b[39m\u001b[38;5;124m'\u001b[39m\u001b[38;5;124mutf-8\u001b[39m\u001b[38;5;124m'\u001b[39m) \u001b[38;5;28;01mas\u001b[39;00m f:\n",
      "\u001b[0;31mValueError\u001b[0m: Conversion failed: Traceback (most recent call last):\n  File \"/Users/thorwhalen/.pyenv/versions/3.10.13/envs/p10/bin/jsonresume_to_rendercv\", line 7, in <module>\n    sys.exit(main())\n  File \"/Users/thorwhalen/.pyenv/versions/p10/lib/python3.10/site-packages/jsonresume_to_rendercv/converter.py\", line 197, in main\n    convert(input_file, output_file)\n  File \"/Users/thorwhalen/.pyenv/versions/p10/lib/python3.10/site-packages/jsonresume_to_rendercv/converter.py\", line 182, in convert\n    output_validator.validate_yaml(render_cv_data)\n  File \"/Users/thorwhalen/.pyenv/versions/p10/lib/python3.10/site-packages/jsonresume_to_rendercv/validator.py\", line 24, in validate_yaml\n    self.validate_json(data)\n  File \"/Users/thorwhalen/.pyenv/versions/p10/lib/python3.10/site-packages/jsonresume_to_rendercv/validator.py\", line 18, in validate_json\n    validate(instance=data, schema=self.schema)\n  File \"/Users/thorwhalen/.pyenv/versions/p10/lib/python3.10/site-packages/jsonschema/validators.py\", line 1332, in validate\n    raise error\njsonschema.exceptions.ValidationError: '' should be non-empty\n\nFailed validating 'minLength' in schema[0]:\n    {'format': 'uri', 'maxLength': 2083, 'minLength': 1, 'type': 'string'}\n\nOn instance:\n    ''\n"
     ]
    }
   ],
   "source": [
    "from hired.util import proj_files, load_yaml\n",
    "from hired.renderers.w_rendercv import resumejson_to_rendercv, render_resume_w_rendercv\n",
    "\n",
    "rendercv_tw_wo_design_path = proj_files / 'tests/fixtures/rc_real_example_resume_without_design.yaml'\n",
    "rendercv_tw_wo_design_content = load_yaml(rendercv_tw_wo_design_path)\n",
    "\n",
    "rendercv_tw_wo_design_content = resumejson_to_rendercv(rendercv_tw_wo_design_content)\n",
    "pdf_bytes = render_resume_w_rendercv(rendercv_tw_wo_design_content, 'pdf')\n",
    "\n"
   ]
  },
  {
   "cell_type": "code",
   "execution_count": null,
   "id": "4e5c0559",
   "metadata": {},
   "outputs": [],
   "source": [
    "# Convert JSON Resume to renderCV format\n",
    "rendercv_dict = resumejson_to_rendercv(content)"
   ]
  },
  {
   "cell_type": "code",
   "execution_count": null,
   "id": "d9aca089",
   "metadata": {},
   "outputs": [],
   "source": [
    "rendercv_path = 'rendercv_example.yaml'  # example from fiddle: https://app.rendercv.com/\n",
    "content = load_yaml(rendercv_path)"
   ]
  },
  {
   "cell_type": "code",
   "execution_count": null,
   "id": "5db2bab3",
   "metadata": {},
   "outputs": [
    {
     "ename": "ValueError",
     "evalue": "PDF generation failed (CLI stderr:  ; API error: Fallback render failed: )",
     "output_type": "error",
     "traceback": [
      "\u001b[0;31m---------------------------------------------------------------------------\u001b[0m",
      "\u001b[0;31mTypeError\u001b[0m                                 Traceback (most recent call last)",
      "File \u001b[0;32m~/Dropbox/py/proj/t/hired/hired/renderers/w_rendercv.py:586\u001b[0m, in \u001b[0;36mrender_resume_w_rendercv\u001b[0;34m(rendercv_dict, format_spec, theme, font_size, page_size, **kwargs)\u001b[0m\n\u001b[1;32m    585\u001b[0m     output_file \u001b[38;5;241m=\u001b[39m temp_path \u001b[38;5;241m/\u001b[39m \u001b[38;5;124m\"\u001b[39m\u001b[38;5;124mresume.pdf\u001b[39m\u001b[38;5;124m\"\u001b[39m\n\u001b[0;32m--> 586\u001b[0m     \u001b[43mrender_a_pdf_from_typst\u001b[49m\u001b[43m(\u001b[49m\u001b[43mtypst_path\u001b[49m\u001b[43m,\u001b[49m\u001b[43m \u001b[49m\u001b[43moutput_file\u001b[49m\u001b[43m)\u001b[49m\n\u001b[1;32m    587\u001b[0m \u001b[38;5;28;01mexcept\u001b[39;00m \u001b[38;5;167;01mException\u001b[39;00m:\n\u001b[1;32m    588\u001b[0m     \u001b[38;5;66;03m# As a last resort, try the CLI on the typst file\u001b[39;00m\n",
      "\u001b[0;31mTypeError\u001b[0m: render_a_pdf_from_typst() takes 1 positional argument but 2 were given",
      "\nDuring handling of the above exception, another exception occurred:\n",
      "\u001b[0;31mRuntimeError\u001b[0m                              Traceback (most recent call last)",
      "File \u001b[0;32m~/Dropbox/py/proj/t/hired/hired/renderers/w_rendercv.py:605\u001b[0m, in \u001b[0;36mrender_resume_w_rendercv\u001b[0;34m(rendercv_dict, format_spec, theme, font_size, page_size, **kwargs)\u001b[0m\n\u001b[1;32m    604\u001b[0m         \u001b[38;5;28;01melse\u001b[39;00m:\n\u001b[0;32m--> 605\u001b[0m             \u001b[38;5;28;01mraise\u001b[39;00m \u001b[38;5;167;01mRuntimeError\u001b[39;00m(\n\u001b[1;32m    606\u001b[0m                 \u001b[38;5;124mf\u001b[39m\u001b[38;5;124m\"\u001b[39m\u001b[38;5;124mFallback render failed: \u001b[39m\u001b[38;5;132;01m{\u001b[39;00mrt2\u001b[38;5;241m.\u001b[39mstderr\u001b[38;5;132;01m}\u001b[39;00m\u001b[38;5;124m\"\u001b[39m\n\u001b[1;32m    607\u001b[0m             )\n\u001b[1;32m    608\u001b[0m \u001b[38;5;28;01mexcept\u001b[39;00m \u001b[38;5;167;01mException\u001b[39;00m \u001b[38;5;28;01mas\u001b[39;00m pdf_error:\n",
      "\u001b[0;31mRuntimeError\u001b[0m: Fallback render failed: ",
      "\nDuring handling of the above exception, another exception occurred:\n",
      "\u001b[0;31mValueError\u001b[0m                                Traceback (most recent call last)",
      "Cell \u001b[0;32mIn[8], line 7\u001b[0m\n\u001b[1;32m      2\u001b[0m \u001b[38;5;28;01mfrom\u001b[39;00m\u001b[38;5;250m \u001b[39m\u001b[38;5;21;01mhired\u001b[39;00m\u001b[38;5;21;01m.\u001b[39;00m\u001b[38;5;21;01mrenderers\u001b[39;00m\u001b[38;5;21;01m.\u001b[39;00m\u001b[38;5;21;01mw_rendercv\u001b[39;00m\u001b[38;5;250m \u001b[39m\u001b[38;5;28;01mimport\u001b[39;00m resumejson_to_rendercv, render_resume_w_rendercv\n\u001b[1;32m      3\u001b[0m \u001b[38;5;28;01mfrom\u001b[39;00m\u001b[38;5;250m \u001b[39m\u001b[38;5;21;01mpathlib\u001b[39;00m\u001b[38;5;250m \u001b[39m\u001b[38;5;28;01mimport\u001b[39;00m Path\n\u001b[0;32m----> 7\u001b[0m pdf_bytes \u001b[38;5;241m=\u001b[39m \u001b[43mrender_resume_w_rendercv\u001b[49m\u001b[43m(\u001b[49m\u001b[43mrendercv_dict\u001b[49m\u001b[43m,\u001b[49m\u001b[43m \u001b[49m\u001b[38;5;124;43m'\u001b[39;49m\u001b[38;5;124;43mpdf\u001b[39;49m\u001b[38;5;124;43m'\u001b[39;49m\u001b[43m)\u001b[49m\n\u001b[1;32m      9\u001b[0m Path(\u001b[38;5;124m'\u001b[39m\u001b[38;5;124mtest_rendercv.pdf\u001b[39m\u001b[38;5;124m'\u001b[39m)\u001b[38;5;241m.\u001b[39mwrite_bytes(pdf_bytes)\n",
      "File \u001b[0;32m~/Dropbox/py/proj/t/hired/hired/renderers/w_rendercv.py:609\u001b[0m, in \u001b[0;36mrender_resume_w_rendercv\u001b[0;34m(rendercv_dict, format_spec, theme, font_size, page_size, **kwargs)\u001b[0m\n\u001b[1;32m    605\u001b[0m                     \u001b[38;5;28;01mraise\u001b[39;00m \u001b[38;5;167;01mRuntimeError\u001b[39;00m(\n\u001b[1;32m    606\u001b[0m                         \u001b[38;5;124mf\u001b[39m\u001b[38;5;124m\"\u001b[39m\u001b[38;5;124mFallback render failed: \u001b[39m\u001b[38;5;132;01m{\u001b[39;00mrt2\u001b[38;5;241m.\u001b[39mstderr\u001b[38;5;132;01m}\u001b[39;00m\u001b[38;5;124m\"\u001b[39m\n\u001b[1;32m    607\u001b[0m                     )\n\u001b[1;32m    608\u001b[0m         \u001b[38;5;28;01mexcept\u001b[39;00m \u001b[38;5;167;01mException\u001b[39;00m \u001b[38;5;28;01mas\u001b[39;00m pdf_error:\n\u001b[0;32m--> 609\u001b[0m             \u001b[38;5;28;01mraise\u001b[39;00m \u001b[38;5;167;01mValueError\u001b[39;00m(\n\u001b[1;32m    610\u001b[0m                 \u001b[38;5;124mf\u001b[39m\u001b[38;5;124m\"\u001b[39m\u001b[38;5;124mPDF generation failed (CLI stderr: \u001b[39m\u001b[38;5;132;01m{\u001b[39;00mresult\u001b[38;5;241m.\u001b[39mstderr\u001b[38;5;132;01m}\u001b[39;00m\u001b[38;5;124m ; API error: \u001b[39m\u001b[38;5;132;01m{\u001b[39;00mpdf_error\u001b[38;5;132;01m}\u001b[39;00m\u001b[38;5;124m)\u001b[39m\u001b[38;5;124m\"\u001b[39m\n\u001b[1;32m    611\u001b[0m             )\n\u001b[1;32m    613\u001b[0m \u001b[38;5;28;01melif\u001b[39;00m format_spec \u001b[38;5;241m==\u001b[39m \u001b[38;5;124m'\u001b[39m\u001b[38;5;124mhtml\u001b[39m\u001b[38;5;124m'\u001b[39m:\n\u001b[1;32m    614\u001b[0m     output_file \u001b[38;5;241m=\u001b[39m temp_path \u001b[38;5;241m/\u001b[39m \u001b[38;5;124m\"\u001b[39m\u001b[38;5;124mresume.html\u001b[39m\u001b[38;5;124m\"\u001b[39m\n",
      "\u001b[0;31mValueError\u001b[0m: PDF generation failed (CLI stderr:  ; API error: Fallback render failed: )"
     ]
    }
   ],
   "source": [
    "# Convert and render with proper design section\n",
    "from hired.renderers.w_rendercv import resumejson_to_rendercv, render_resume_w_rendercv\n",
    "from pathlib import Path\n",
    "\n",
    "\n",
    "pdf_bytes = render_resume_w_rendercv(rendercv_dict, 'pdf')\n",
    "\n",
    "Path('test_rendercv.pdf').write_bytes(pdf_bytes)"
   ]
  },
  {
   "cell_type": "code",
   "execution_count": null,
   "id": "11c77ab9",
   "metadata": {},
   "outputs": [
    {
     "ename": "",
     "evalue": "",
     "output_type": "error",
     "traceback": [
      "\u001b[1;31mnotebook controller is DISPOSED. \n",
      "\u001b[1;31mView Jupyter <a href='command:jupyter.viewOutput'>log</a> for further details."
     ]
    }
   ],
   "source": [
    "from IPython.display import IFrame, display\n",
    "IFrame(\"test_rendercv.pdf\", width=600, height=300)"
   ]
  },
  {
   "cell_type": "code",
   "execution_count": 7,
   "id": "b28c7a0e",
   "metadata": {},
   "outputs": [
    {
     "name": "stdout",
     "output_type": "stream",
     "text": [
      "✅ Conversion successful!\n",
      "✅ Added proper design section\n",
      "✅ PDF rendered: 20889 bytes\n",
      "✅ PDF saved as 'resume.pdf'\n"
     ]
    }
   ],
   "source": [
    "# Convert and render with proper design section\n",
    "from hired.renderers.w_rendercv import resumejson_to_rendercv, render_resume_w_rendercv\n",
    "import yaml\n",
    "\n",
    "# Convert JSON Resume to renderCV format\n",
    "rendercv_dict = resumejson_to_rendercv(content)\n",
    "print(\"✅ Conversion successful!\")\n",
    "\n",
    "# Add a proper design section that renderCV expects\n",
    "rendercv_dict['design'] = {\n",
    "    'theme': 'classic',\n",
    "    'page': {\n",
    "        'size': 'us-letter',\n",
    "        'top_margin': '2cm',\n",
    "        'bottom_margin': '2cm', \n",
    "        'left_margin': '2cm',\n",
    "        'right_margin': '2cm'\n",
    "    },\n",
    "    'text': {\n",
    "        'font_family': 'Source Sans 3',\n",
    "        'font_size': '10pt'\n",
    "    }\n",
    "}\n",
    "\n",
    "# Add renderCV settings\n",
    "rendercv_dict['rendercv_settings'] = {\n",
    "    'date': '2025-09-19'\n",
    "}\n",
    "\n",
    "print(\"✅ Added proper design section\")\n",
    "\n",
    "try:\n",
    "    # Test PDF generation with complete renderCV structure\n",
    "    pdf_bytes = render_resume_w_rendercv(rendercv_dict, 'pdf')\n",
    "    print(f\"✅ PDF rendered: {len(pdf_bytes)} bytes\")\n",
    "    \n",
    "    # Save to file\n",
    "    with open('resume.pdf', 'wb') as f:\n",
    "        f.write(pdf_bytes)\n",
    "    print(\"✅ PDF saved as 'resume.pdf'\")\n",
    "    \n",
    "except Exception as e:\n",
    "    print(f\"❌ Error: {e}\")\n",
    "    # Save the renderCV dict for debugging\n",
    "    with open('debug_full_rendercv.yaml', 'w') as f:\n",
    "        yaml.dump(rendercv_dict, f, default_flow_style=False)\n",
    "    print(\"💾 Saved renderCV dict to debug_full_rendercv.yaml for inspection\")"
   ]
  },
  {
   "cell_type": "code",
   "execution_count": null,
   "id": "75fed62f",
   "metadata": {},
   "outputs": [],
   "source": []
  },
  {
   "cell_type": "code",
   "execution_count": 2,
   "id": "0d996737",
   "metadata": {},
   "outputs": [
    {
     "data": {
      "text/plain": [
       "37381"
      ]
     },
     "execution_count": 2,
     "metadata": {},
     "output_type": "execute_result"
    }
   ],
   "source": [
    "from hired.util import proj_files, load_yaml\n",
    "from hired.renderers.w_rendercv import resumejson_to_rendercv, render_resume_w_rendercv\n",
    "\n",
    "rendercv_tw_wo_design_path = proj_files / 'tests/fixtures/rc_real_example_resume_without_design.yaml'\n",
    "rendercv_tw_wo_design_content = load_yaml(rendercv_tw_wo_design_path)\n",
    "\n",
    "rendercv_tw_wo_design_content = resumejson_to_rendercv(rendercv_tw_wo_design_content)\n",
    "pdf_bytes = render_resume_w_rendercv(rendercv_tw_wo_design_content, 'pdf')\n",
    "\n",
    "from pathlib import Path\n",
    "Path('test_rendercv.pdf').write_bytes(pdf_bytes)"
   ]
  },
  {
   "cell_type": "code",
   "execution_count": null,
   "id": "0da4735b",
   "metadata": {},
   "outputs": [],
   "source": []
  },
  {
   "cell_type": "code",
   "execution_count": null,
   "id": "3e17b8b3",
   "metadata": {},
   "outputs": [],
   "source": []
  },
  {
   "cell_type": "code",
   "execution_count": null,
   "id": "d37c338f",
   "metadata": {},
   "outputs": [],
   "source": []
  },
  {
   "cell_type": "code",
   "execution_count": null,
   "id": "7691df01",
   "metadata": {},
   "outputs": [],
   "source": []
  },
  {
   "cell_type": "code",
   "execution_count": null,
   "id": "73a5bd6f",
   "metadata": {},
   "outputs": [],
   "source": []
  }
 ],
 "metadata": {
  "kernelspec": {
   "display_name": "p10",
   "language": "python",
   "name": "python3"
  },
  "language_info": {
   "codemirror_mode": {
    "name": "ipython",
    "version": 3
   },
   "file_extension": ".py",
   "mimetype": "text/x-python",
   "name": "python",
   "nbconvert_exporter": "python",
   "pygments_lexer": "ipython3",
   "version": "3.10.13"
  }
 },
 "nbformat": 4,
 "nbformat_minor": 5
}
